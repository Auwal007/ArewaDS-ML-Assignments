{
 "cells": [
  {
   "cell_type": "code",
   "execution_count": 1,
   "id": "296bc869",
   "metadata": {},
   "outputs": [
    {
     "name": "stderr",
     "output_type": "stream",
     "text": [
      "[nltk_data] Downloading package vader_lexicon to\n",
      "[nltk_data]     C:\\Users\\Dell\\AppData\\Roaming\\nltk_data...\n"
     ]
    },
    {
     "data": {
      "text/plain": [
       "True"
      ]
     },
     "execution_count": 1,
     "metadata": {},
     "output_type": "execute_result"
    }
   ],
   "source": [
    "\n",
    "import nltk\n",
    "import pandas as pd\n",
    "from nltk.sentiment.vader import SentimentIntensityAnalyzer\n",
    "nltk.download('vader_lexicon')\n"
   ]
  },
  {
   "cell_type": "code",
   "execution_count": 5,
   "id": "6206cb2a",
   "metadata": {},
   "outputs": [],
   "source": [
    "\n",
    "data = {\n",
    "    \"review\": [\n",
    "        \"I absolutely loved this movie! The acting was fantastic and the story was touching.\",\n",
    "        \"Terrible movie. Waste of time. I will never watch it again.\",\n",
    "        \"It was okay, some parts were interesting but overall it was too long and boring.\",\n",
    "        \"An amazing experience! Truly a masterpiece of modern cinema.\",\n",
    "        \"Not great, not terrible. Just average.\"\n",
    "    ]\n",
    "}\n",
    "\n",
    "df = pd.DataFrame(data)\n",
    "\n"
   ]
  },
  {
   "cell_type": "code",
   "execution_count": 6,
   "id": "6482369c",
   "metadata": {},
   "outputs": [],
   "source": [
    "# 3. Initialize VADER Sentiment Analyzer\n",
    "sia = SentimentIntensityAnalyzer()\n",
    "\n",
    "# 4. Apply Sentiment Analysis\n",
    "df[\"sentiment_score\"] = df[\"review\"].apply(lambda x: sia.polarity_scores(x)[\"compound\"])\n",
    "\n"
   ]
  },
  {
   "cell_type": "code",
   "execution_count": 8,
   "id": "b6a1b9db",
   "metadata": {},
   "outputs": [
    {
     "name": "stdout",
     "output_type": "stream",
     "text": [
      "                                              review  sentiment_score  \\\n",
      "0  I absolutely loved this movie! The acting was ...           0.8436   \n",
      "1  Terrible movie. Waste of time. I will never wa...          -0.7096   \n",
      "2  It was okay, some parts were interesting but o...          -0.1655   \n",
      "3  An amazing experience! Truly a masterpiece of ...           0.9020   \n",
      "4             Not great, not terrible. Just average.          -0.6645   \n",
      "\n",
      "  sentiment  \n",
      "0  Positive  \n",
      "1  Negative  \n",
      "2  Negative  \n",
      "3  Positive  \n",
      "4  Negative  \n"
     ]
    }
   ],
   "source": [
    "# 5. Assign Sentiment Labels\n",
    "def get_sentiment(score):\n",
    "    if score >= 0.05:\n",
    "        return \"Positive\"\n",
    "    elif score <= -0.05:\n",
    "        return \"Negative\"\n",
    "    else:\n",
    "        return \"Neutral\"\n",
    "\n",
    "df[\"sentiment\"] = df[\"sentiment_score\"].apply(get_sentiment)\n",
    "\n",
    "# 6. Show Results\n",
    "print(df)\n"
   ]
  }
 ],
 "metadata": {
  "kernelspec": {
   "display_name": "base",
   "language": "python",
   "name": "python3"
  },
  "language_info": {
   "codemirror_mode": {
    "name": "ipython",
    "version": 3
   },
   "file_extension": ".py",
   "mimetype": "text/x-python",
   "name": "python",
   "nbconvert_exporter": "python",
   "pygments_lexer": "ipython3",
   "version": "3.12.4"
  }
 },
 "nbformat": 4,
 "nbformat_minor": 5
}
