{
 "cells": [
  {
   "cell_type": "markdown",
   "id": "77f3a501",
   "metadata": {},
   "source": [
    "# Logistic Regression with US Pumpkins Dataset\n",
    "\n",
    "This notebook demonstrates a simple logistic regression model to predict pumpkin size based on price data."
   ]
  },
  {
   "cell_type": "code",
   "execution_count": null,
   "id": "3927c0c1",
   "metadata": {},
   "outputs": [],
   "source": [
    "# Import necessary libraries\n",
    "import pandas as pd\n",
    "import numpy as np\n",
    "from sklearn.model_selection import train_test_split\n",
    "from sklearn.linear_model import LogisticRegression\n",
    "from sklearn.metrics import accuracy_score, classification_report\n",
    "import matplotlib.pyplot as plt\n",
    "\n",
    "# Load the dataset\n",
    "df = pd.read_csv('US-pumpkins.csv')\n",
    "print(\"Dataset shape:\", df.shape)\n",
    "print(\"\\nFirst few rows:\")\n",
    "df.head()"
   ]
  },
  {
   "cell_type": "code",
   "execution_count": null,
   "id": "3f5a8d43",
   "metadata": {},
   "outputs": [],
   "source": [
    "# Explore the data\n",
    "print(\"Column names:\")\n",
    "print(df.columns.tolist())\n",
    "print(\"\\nItem Size values:\")\n",
    "print(df['Item Size'].value_counts())\n",
    "print(\"\\nMissing values in key columns:\")\n",
    "print(df[['Item Size', 'Low Price', 'High Price']].isnull().sum())"
   ]
  },
  {
   "cell_type": "code",
   "execution_count": null,
   "id": "f2eea5b7",
   "metadata": {},
   "outputs": [],
   "source": [
    "# Clean and prepare the data\n",
    "# Remove rows with missing Item Size, Low Price, or High Price\n",
    "clean_df = df.dropna(subset=['Item Size', 'Low Price', 'High Price'])\n",
    "\n",
    "# Create target variable: 1 for 'lge' (large), 0 for others (med, sml, etc.)\n",
    "clean_df['is_large'] = (clean_df['Item Size'] == 'lge').astype(int)\n",
    "\n",
    "# Create features\n",
    "clean_df['avg_price'] = (clean_df['Low Price'] + clean_df['High Price']) / 2\n",
    "clean_df['price_range'] = clean_df['High Price'] - clean_df['Low Price']\n",
    "\n",
    "# Select features and target\n",
    "features = ['Low Price', 'High Price', 'avg_price', 'price_range']\n",
    "X = clean_df[features]\n",
    "y = clean_df['is_large']\n",
    "\n",
    "print(f\"Number of samples after cleaning: {len(clean_df)}\")\n",
    "print(f\"Target distribution:\\n{y.value_counts()}\")\n",
    "print(f\"\\nFeatures summary:\")\n",
    "print(X.describe())"
   ]
  },
  {
   "cell_type": "code",
   "execution_count": null,
   "id": "3e3b71e6",
   "metadata": {},
   "outputs": [],
   "source": [
    "# Split the data into training and testing sets\n",
    "X_train, X_test, y_train, y_test = train_test_split(X, y, test_size=0.2, random_state=42)\n",
    "\n",
    "print(f\"Training set size: {len(X_train)}\")\n",
    "print(f\"Testing set size: {len(X_test)}\")\n",
    "\n",
    "# Create and train the logistic regression model\n",
    "model = LogisticRegression(random_state=42)\n",
    "model.fit(X_train, y_train)\n",
    "\n",
    "print(\"\\nModel training completed!\")\n",
    "print(f\"Model coefficients: {model.coef_[0]}\")\n",
    "print(f\"Model intercept: {model.intercept_[0]}\")\n",
    "print(f\"Feature names: {features}\")"
   ]
  },
  {
   "cell_type": "code",
   "execution_count": null,
   "id": "80f1a09d",
   "metadata": {},
   "outputs": [],
   "source": [
    "# Make predictions\n",
    "y_pred = model.predict(X_test)\n",
    "y_pred_proba = model.predict_proba(X_test)[:, 1]  # Probability of being large\n",
    "\n",
    "# Evaluate the model\n",
    "accuracy = accuracy_score(y_test, y_pred)\n",
    "\n",
    "print(f\"Model Accuracy: {accuracy:.3f}\")\n",
    "print(f\"\\nClassification Report:\")\n",
    "print(classification_report(y_test, y_pred))\n",
    "\n",
    "# Show some example predictions\n",
    "print(f\"\\nExample Predictions:\")\n",
    "for i in range(5):\n",
    "    actual = \"Large\" if y_test.iloc[i] == 1 else \"Not Large\"\n",
    "    predicted = \"Large\" if y_pred[i] == 1 else \"Not Large\"\n",
    "    probability = y_pred_proba[i]\n",
    "    print(f\"Sample {i+1}: Actual={actual}, Predicted={predicted}, Probability={probability:.3f}\")"
   ]
  },
  {
   "cell_type": "code",
   "execution_count": null,
   "id": "d35d71b6",
   "metadata": {},
   "outputs": [],
   "source": [
    "# Simple visualization\n",
    "plt.figure(figsize=(10, 6))\n",
    "\n",
    "# Plot 1: Price vs Size\n",
    "plt.subplot(1, 2, 1)\n",
    "large_pumpkins = clean_df[clean_df['is_large'] == 1]\n",
    "not_large_pumpkins = clean_df[clean_df['is_large'] == 0]\n",
    "\n",
    "plt.scatter(not_large_pumpkins['avg_price'], not_large_pumpkins['price_range'], \n",
    "           alpha=0.6, label='Not Large', color='orange')\n",
    "plt.scatter(large_pumpkins['avg_price'], large_pumpkins['price_range'], \n",
    "           alpha=0.6, label='Large', color='green')\n",
    "plt.xlabel('Average Price')\n",
    "plt.ylabel('Price Range')\n",
    "plt.title('Pumpkin Size by Price Features')\n",
    "plt.legend()\n",
    "\n",
    "# Plot 2: Feature importance\n",
    "plt.subplot(1, 2, 2)\n",
    "feature_names = ['Low Price', 'High Price', 'Avg Price', 'Price Range']\n",
    "coefficients = model.coef_[0]\n",
    "plt.barh(feature_names, coefficients)\n",
    "plt.xlabel('Coefficient Value')\n",
    "plt.title('Feature Importance in Logistic Regression')\n",
    "\n",
    "plt.tight_layout()\n",
    "plt.show()\n",
    "\n",
    "print(\"Simple Logistic Regression Model Complete!\")"
   ]
  }
 ],
 "metadata": {
  "language_info": {
   "name": "python"
  }
 },
 "nbformat": 4,
 "nbformat_minor": 5
}
